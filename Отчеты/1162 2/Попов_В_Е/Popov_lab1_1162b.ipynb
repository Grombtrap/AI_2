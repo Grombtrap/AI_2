{
  "cells": [
    {
      "metadata": {
        "_uuid": "8f2839f25d086af736a60e9eeb907d3b93b6e0e5",
        "_cell_guid": "b1076dfc-b9ad-4769-8c92-a6c4dae69d19",
        "trusted": true
      },
      "cell_type": "code",
      "source": "import pandas as pd \nimport matplotlib.pyplot as plt\nimport numpy as np\nimport seaborn as sns\ndatatips = pd.read_csv('../input/tips.csv')",
      "execution_count": null,
      "outputs": []
    },
    {
      "metadata": {
        "_cell_guid": "79c7e3d0-c299-4dcb-8224-4455121ee9b0",
        "_uuid": "d629ff2d2480ee46fbb7e2d37f6b5fab8052498a",
        "trusted": true
      },
      "cell_type": "code",
      "source": "datatips.head()",
      "execution_count": null,
      "outputs": []
    },
    {
      "metadata": {
        "trusted": true,
        "_uuid": "a600a79663d40b36c3585c01de092068da73b3fb"
      },
      "cell_type": "code",
      "source": "len(datatips)",
      "execution_count": null,
      "outputs": []
    },
    {
      "metadata": {
        "trusted": true,
        "_uuid": "ea67a96359a21c172d352e392359d913748853a6"
      },
      "cell_type": "code",
      "source": "sns.regplot(x='tip', y='total_bill', data=datatips)\nplt.show()",
      "execution_count": null,
      "outputs": []
    },
    {
      "metadata": {
        "trusted": true,
        "_uuid": "7ffe7defee185d5ace5836090613afaaa266bbab"
      },
      "cell_type": "code",
      "source": "plt.hist(datatips['total_bill'], color =\"red\")\nplt.show()",
      "execution_count": null,
      "outputs": []
    },
    {
      "metadata": {
        "trusted": true,
        "_uuid": "82884624ef50daa475a6779a806c866209fb2efa"
      },
      "cell_type": "code",
      "source": "sns.distplot(datatips['total_bill'], kde=True, rug=True)\nplt.show()",
      "execution_count": null,
      "outputs": []
    },
    {
      "metadata": {
        "trusted": true,
        "_uuid": "eff99054dae689741adc155b856a5a692551e7e7"
      },
      "cell_type": "code",
      "source": "sns.set_style('darkgrid')\nsns.boxplot(x='total_bill', y='day', data=datatips, palette='Blues')\nplt.show()",
      "execution_count": null,
      "outputs": []
    },
    {
      "metadata": {
        "trusted": true,
        "_uuid": "da27fe755b28516f76c760a77c2227fd39aaa5f6",
        "scrolled": true
      },
      "cell_type": "code",
      "source": "sns.boxplot(x='sex', y='tip', data=datatips, palette='Blues')\nplt.show()",
      "execution_count": null,
      "outputs": []
    },
    {
      "metadata": {
        "trusted": true,
        "_uuid": "dd92b2e38b4f33349ec4a3d4e5df8f295eef5104"
      },
      "cell_type": "code",
      "source": "fig, ax= plt.subplots()\nax.scatter(datatips[datatips['sex']=='Male']['tip'], datatips[datatips['sex']=='Male']['total_bill'], color='blue', label='Муж')\nax.scatter(datatips[datatips['sex']=='Female']['tip'], datatips[datatips['sex']=='Female']['total_bill'], color='green', label='Жен')\nax.set_title('Общий счет и чаевые с распределением по полу', fontdict={'fontsize': 14, 'fontweight': 'bold'})\nax.set_ylabel('Общий счет')\nax.set_xlabel('Чаевые')\nax.legend()\nplt.show()",
      "execution_count": null,
      "outputs": []
    },
    {
      "metadata": {
        "trusted": true,
        "_uuid": "e6d903bc660742d561bc7cc0fa7b58234b58f65f"
      },
      "cell_type": "code",
      "source": "sns.violinplot(x = \"total_bill\", y = \"sex\", data=datatips)",
      "execution_count": null,
      "outputs": []
    },
    {
      "metadata": {
        "trusted": true,
        "_uuid": "7498cb31431bab26b4e231d1f6c92e71092f5f51"
      },
      "cell_type": "code",
      "source": "sns.catplot(x=\"day\", y=\"total_bill\", hue=\"smoker\",\n            kind=\"bar\", data=datatips);\ndatapl =  pd.read_csv('../input/premier_league.csv')",
      "execution_count": null,
      "outputs": []
    },
    {
      "metadata": {
        "trusted": true,
        "_uuid": "cb2fe1afce084f57751e239a5bf85a32cbf8f49d"
      },
      "cell_type": "code",
      "source": "datapl.head()",
      "execution_count": null,
      "outputs": []
    },
    {
      "metadata": {
        "trusted": true,
        "_uuid": "fe8742fa4d94a7c9d3e35f4e182864e7881cd46a"
      },
      "cell_type": "code",
      "source": "len(datapl)",
      "execution_count": null,
      "outputs": []
    },
    {
      "metadata": {
        "trusted": true,
        "_uuid": "7c7e1d8e40304dd4b4c433c0fc5c51eba0683ae9"
      },
      "cell_type": "code",
      "source": "all_goals = datapl.home_goals + datapl.away_goals",
      "execution_count": null,
      "outputs": []
    },
    {
      "metadata": {
        "trusted": true,
        "_uuid": "7361ac3871934a0b3e0f8558210825b237123ebc"
      },
      "cell_type": "code",
      "source": "datapl['all_goals'] = pd.Series(all_goals, index = datapl.index)",
      "execution_count": null,
      "outputs": []
    },
    {
      "metadata": {
        "trusted": true,
        "_uuid": "2d66aea946aac9b337e99698985d9189e62e8a3f"
      },
      "cell_type": "code",
      "source": "datapl.head()",
      "execution_count": null,
      "outputs": []
    },
    {
      "metadata": {
        "trusted": true,
        "_uuid": "69bf397de763a895a6f8e019cf471ab3f8763651"
      },
      "cell_type": "code",
      "source": "goals_of_season = datapl.season.value_counts().sort_values(ascending = False).head(12).index.values\nsns.boxplot(y = \"season\", x = \"all_goals\", data =datapl[datapl.season.isin(goals_of_season)])",
      "execution_count": null,
      "outputs": []
    },
    {
      "metadata": {
        "trusted": true,
        "_uuid": "5c68ca514714ec4faf6a4615a01f99f5597cf94b"
      },
      "cell_type": "code",
      "source": "datapl.groupby('season').sum().plot(kind = 'bar', rot = 45)\n",
      "execution_count": null,
      "outputs": []
    },
    {
      "metadata": {
        "trusted": true,
        "_uuid": "a606115155920128e97a3093c782b79df6205cdc"
      },
      "cell_type": "code",
      "source": "plt.hist(datapl['season'])\nplt.show()",
      "execution_count": null,
      "outputs": []
    },
    {
      "metadata": {
        "trusted": true,
        "_uuid": "37e5fc23911d5e485eb0c6372cd91227dfde4111"
      },
      "cell_type": "code",
      "source": "result_all_goals_season = datapl.pivot_table(\n                            index = 'season',\n                            columns = 'result',\n                            values = 'all_goals',\n                            aggfunc = sum).fillna(0).applymap(float)\nsns.heatmap(result_all_goals_season, annot=True, fmt='.1f', linewidths=.5)",
      "execution_count": null,
      "outputs": []
    },
    {
      "metadata": {
        "trusted": true,
        "_uuid": "4b7566cea09d5d3e4fc147560b8e5a480d892579"
      },
      "cell_type": "code",
      "source": "sns.distplot(datapl['all_goals'], kde=True, rug=True)\nplt.show()",
      "execution_count": null,
      "outputs": []
    },
    {
      "metadata": {
        "trusted": true,
        "_uuid": "c1cea3e15cce892f81763245f3b67fb3188093b2"
      },
      "cell_type": "code",
      "source": "",
      "execution_count": null,
      "outputs": []
    },
    {
      "metadata": {
        "trusted": true,
        "_uuid": "7e55f3c11f200840526f4e56a91b2cfd7d10ce67"
      },
      "cell_type": "code",
      "source": "home_goals=datapl.home_goals.sum()\naway_goals = datapl.away_goals.sum()\nlabels = 'Домашние голы','Гостевые голы'\nsizes = [home_goals,away_goals]\nax1 = plt.subplots()\nax1.pie(sizes, explode=None, labels=labels, autopct='%1.1f%%',\n        shadow=True, startangle=90)",
      "execution_count": null,
      "outputs": []
    },
    {
      "metadata": {
        "trusted": true,
        "_uuid": "cb0b29167e66e44b49574b99a21a52dd26face26"
      },
      "cell_type": "code",
      "source": "",
      "execution_count": null,
      "outputs": []
    }
  ],
  "metadata": {
    "kernelspec": {
      "display_name": "Python 3",
      "language": "python",
      "name": "python3"
    },
    "language_info": {
      "name": "python",
      "version": "3.6.6",
      "mimetype": "text/x-python",
      "codemirror_mode": {
        "name": "ipython",
        "version": 3
      },
      "pygments_lexer": "ipython3",
      "nbconvert_exporter": "python",
      "file_extension": ".py"
    }
  },
  "nbformat": 4,
  "nbformat_minor": 1
}